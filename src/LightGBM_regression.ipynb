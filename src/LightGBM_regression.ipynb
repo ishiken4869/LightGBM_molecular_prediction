{
 "cells": [
  {
   "cell_type": "code",
   "execution_count": 26,
   "metadata": {},
   "outputs": [],
   "source": [
    "#import argparse\n",
    "import os\n",
    "import deepchem as dc\n",
    "from deepchem.utils.data_utils import load_from_disk, save_to_disk\n",
    "from lightgbm import LGBMRegressor\n",
    "from sklearn.ensemble import RandomForestRegressor\n",
    "from sklearn.experimental import enable_halving_search_cv\n",
    "from sklearn.model_selection import GridSearchCV\n",
    "import multiprocessing\n",
    "import time\n",
    "import matplotlib.pyplot as plt"
   ]
  },
  {
   "cell_type": "code",
   "execution_count": 27,
   "metadata": {},
   "outputs": [],
   "source": [
    "TRAIN = \"../data/smiles_all_property.csv\"\n",
    "TARGET_COL = \"wavelength\"\n",
    "SMILES_COL = \"smiles\"\n",
    "PROPERTY = TARGET_COL\n",
    "\n",
    "\n",
    "if TARGET_COL == \"Decomposition Energy\":\n",
    "    PROPERTY = \"Decomposition_Energy\"\n",
    "elif TARGET_COL == \"HOMO/LUMO gap\":\n",
    "    PROPERTY = \"HOMOLUMO_gap\"\n",
    "\n",
    "MODEL_DIR = \"../model/\" + PROPERTY\n",
    "LOG_DIR = \"../log/\" + PROPERTY\n",
    "\n",
    "DATA_DIR = \"../data/\" + PROPERTY\n",
    "\n",
    "DATA_EXIST = os.path.exists(DATA_DIR + \"/tasks.json\")"
   ]
  },
  {
   "cell_type": "code",
   "execution_count": 28,
   "metadata": {},
   "outputs": [
    {
     "data": {
      "text/plain": [
       "True"
      ]
     },
     "execution_count": 28,
     "metadata": {},
     "output_type": "execute_result"
    }
   ],
   "source": [
    "DATA_EXIST"
   ]
  },
  {
   "cell_type": "code",
   "execution_count": 4,
   "metadata": {},
   "outputs": [],
   "source": [
    "def model_builder(**model_params):\n",
    "    estimator = LGBMRegressor()\n",
    "    estimator.set_params(**model_params)\n",
    "    return dc.models.SklearnModel(estimator)"
   ]
  },
  {
   "cell_type": "code",
   "execution_count": 5,
   "metadata": {},
   "outputs": [],
   "source": [
    "featurizer = dc.feat.RDKitDescriptors()"
   ]
  },
  {
   "cell_type": "code",
   "execution_count": 6,
   "metadata": {},
   "outputs": [],
   "source": [
    "# 学習データの読み込み\n",
    "loader = dc.data.CSVLoader(tasks=[TARGET_COL],\n",
    "                            feature_field=SMILES_COL,\n",
    "                            featurizer=featurizer)"
   ]
  },
  {
   "cell_type": "markdown",
   "metadata": {},
   "source": [
    "CSVファイル形式の場合は、以下を実行してDATA_DIRにDiskDataset形式で保存\n",
    "\n",
    "10分ほど時間がかかる\n",
    "\n",
    "DATA_DIRにDiskDataset形式で保存している場合は、以下を実行\n",
    "\n",
    "一瞬で実行可能"
   ]
  },
  {
   "cell_type": "code",
   "execution_count": 8,
   "metadata": {},
   "outputs": [],
   "source": [
    "if DATA_EXIST == True:\n",
    "    dataset = dc.data.DiskDataset(DATA_DIR)\n",
    "else:\n",
    "    dataset = loader.create_dataset(TRAIN, data_dir=DATA_DIR)"
   ]
  },
  {
   "cell_type": "code",
   "execution_count": 9,
   "metadata": {},
   "outputs": [],
   "source": [
    "splitter = dc.splits.IndexSplitter()"
   ]
  },
  {
   "cell_type": "code",
   "execution_count": 10,
   "metadata": {},
   "outputs": [],
   "source": [
    "train_dataset, valid_dataset, test_dataset = splitter.train_valid_test_split(dataset, frac_train=0.6, frac_valid=0.2, frac_test=0.2)"
   ]
  },
  {
   "cell_type": "code",
   "execution_count": 11,
   "metadata": {},
   "outputs": [],
   "source": [
    "transformers = [dc.trans.NormalizationTransformer(transform_y=True,dataset=train_dataset)]"
   ]
  },
  {
   "cell_type": "code",
   "execution_count": 12,
   "metadata": {},
   "outputs": [],
   "source": [
    "for transformer in transformers:\n",
    "    train_dataset = transformer.transform(train_dataset)\n",
    "    valid_dataset = transformer.transform(valid_dataset)\n",
    "    #test_dataset = transformer.transform(test_dataset)"
   ]
  },
  {
   "cell_type": "code",
   "execution_count": 13,
   "metadata": {},
   "outputs": [
    {
     "name": "stdout",
     "output_type": "stream",
     "text": [
      "(52576, 209)\n",
      "(17526, 209)\n",
      "(17526, 209)\n"
     ]
    }
   ],
   "source": [
    "print(train_dataset.X.shape)\n",
    "print(valid_dataset.X.shape)\n",
    "print(test_dataset.X.shape)"
   ]
  },
  {
   "cell_type": "code",
   "execution_count": 14,
   "metadata": {},
   "outputs": [
    {
     "name": "stdout",
     "output_type": "stream",
     "text": [
      "<DiskDataset X.shape: (87628, 209), y.shape: (87628, 1), w.shape: (87628, 1), task_names: ['wavelength']>\n",
      "<DiskDataset X.shape: (52576, 209), y.shape: (52576, 1), w.shape: (52576, 1), task_names: ['wavelength']>\n"
     ]
    }
   ],
   "source": [
    "print(dataset)\n",
    "print(train_dataset)"
   ]
  },
  {
   "cell_type": "code",
   "execution_count": 15,
   "metadata": {},
   "outputs": [
    {
     "data": {
      "text/plain": [
       "256"
      ]
     },
     "execution_count": 15,
     "metadata": {},
     "output_type": "execute_result"
    }
   ],
   "source": [
    "import multiprocessing\n",
    "multiprocessing.cpu_count()"
   ]
  },
  {
   "cell_type": "code",
   "execution_count": 16,
   "metadata": {},
   "outputs": [],
   "source": [
    "metric = dc.metrics.Metric(dc.metrics.mean_absolute_error)\n",
    "optimizer = dc.hyper.GridHyperparamOpt(model_builder)\n",
    "\n",
    "params_dict = {\n",
    "        #'boosting_type': ['rf'],\n",
    "        'num_leaves': [100],\n",
    "        'criterion': ['absolute_error'],\n",
    "        'max_depth': [200],\n",
    "        'min_child_samples': [30],\n",
    "        'learning_rate': [0.01],\n",
    "        'n_estimators': [40000],\n",
    "        'reg_lambda': [0],\n",
    "        'colsample_bytree': [0.4],\n",
    "        'n_jobs': [multiprocessing.cpu_count()],\n",
    "        }"
   ]
  },
  {
   "cell_type": "code",
   "execution_count": 17,
   "metadata": {},
   "outputs": [
    {
     "data": {
      "text/plain": [
       "'\\nestimator = LGBMRegressor()\\n\\ntuned_model = GridSearchCV(estimator=estimator, \\n                           param_grid=params_dict, \\n                           return_train_score=False)\\n'"
      ]
     },
     "execution_count": 17,
     "metadata": {},
     "output_type": "execute_result"
    }
   ],
   "source": [
    "'''\n",
    "estimator = LGBMRegressor()\n",
    "\n",
    "tuned_model = GridSearchCV(estimator=estimator, \n",
    "                           param_grid=params_dict, \n",
    "                           return_train_score=False)\n",
    "'''"
   ]
  },
  {
   "cell_type": "code",
   "execution_count": 18,
   "metadata": {},
   "outputs": [],
   "source": [
    "#tuned_model.fit(train_dataset, valid_dataset)"
   ]
  },
  {
   "cell_type": "code",
   "execution_count": 19,
   "metadata": {},
   "outputs": [
    {
     "name": "stdout",
     "output_type": "stream",
     "text": [
      "1703422220.8010607\n"
     ]
    }
   ],
   "source": [
    "import time\n",
    "\n",
    "ut = time.time()\n",
    "print(ut)"
   ]
  },
  {
   "cell_type": "code",
   "execution_count": 20,
   "metadata": {},
   "outputs": [
    {
     "name": "stdout",
     "output_type": "stream",
     "text": [
      "[LightGBM] [Warning] Unknown parameter: criterion\n",
      "[LightGBM] [Warning] Unknown parameter: model_dir\n"
     ]
    }
   ],
   "source": [
    "best_model, best_model_hyperparams, all_model_results = optimizer.hyperparam_search(params_dict=params_dict, \n",
    "                                                                                    train_dataset=train_dataset, \n",
    "                                                                                    valid_dataset=valid_dataset, \n",
    "                                                                                    output_transformers=transformers, \n",
    "                                                                                    metric=metric, \n",
    "                                                                                    use_max=False)"
   ]
  },
  {
   "cell_type": "code",
   "execution_count": 21,
   "metadata": {},
   "outputs": [],
   "source": [
    "# モデルの保存\n",
    "save_to_disk(best_model, MODEL_DIR + \"/model.joblib\")"
   ]
  },
  {
   "cell_type": "code",
   "execution_count": 22,
   "metadata": {},
   "outputs": [],
   "source": [
    "# モデルのロード\n",
    "loaded_model = load_from_disk(MODEL_DIR + \"/model.joblib\")"
   ]
  },
  {
   "cell_type": "code",
   "execution_count": 24,
   "metadata": {},
   "outputs": [
    {
     "name": "stdout",
     "output_type": "stream",
     "text": [
      "6.45861595403403\n"
     ]
    },
    {
     "data": {
      "image/png": "[encoded data removed]",
      "text/plain": [
       "<Figure size 640x480 with 1 Axes>"
      ]
     },
     "metadata": {},
     "output_type": "display_data"
    }
   ],
   "source": [
    "import matplotlib.pyplot as plt\n",
    "import time\n",
    "\n",
    "%matplotlib inline\n",
    "\n",
    "\n",
    "time_sta = time.perf_counter()\n",
    "predicted_test = loaded_model.predict(test_dataset, transformers=transformers)\n",
    "time_end = time.perf_counter()\n",
    "\n",
    "\n",
    "tim = time_end- time_sta\n",
    "print(tim)\n",
    "\n",
    "\n",
    "true_test = test_dataset.y\n",
    "\n",
    "\n",
    "plt.scatter(true_test, predicted_test, s=1)\n",
    "plt.xlabel('label')\n",
    "plt.ylabel('output')\n",
    "plt.title(TARGET_COL)\n",
    "plt.grid(True)\n",
    "plt.savefig(\"../scatter/\" + PROPERTY + \"/scatter.png\")"
   ]
  },
  {
   "cell_type": "code",
   "execution_count": 25,
   "metadata": {},
   "outputs": [
    {
     "data": {
      "text/plain": [
       "16.474767112974362"
      ]
     },
     "execution_count": 25,
     "metadata": {},
     "output_type": "execute_result"
    }
   ],
   "source": [
    "dc.metrics.mean_absolute_error(true_test, predicted_test)"
   ]
  },
  {
   "cell_type": "code",
   "execution_count": 37,
   "metadata": {},
   "outputs": [
    {
     "name": "stdout",
     "output_type": "stream",
     "text": [
      "{'num_leaves': 100, 'criterion': 'absolute_error', 'max_depth': 200, 'min_child_samples': 30, 'learning_rate': 0.01, 'n_estimators': 40000, 'reg_lambda': 0, 'colsample_bytree': 0.4, 'n_jobs': 256}\n"
     ]
    }
   ],
   "source": [
    "print(best_model_hyperparams)"
   ]
  },
  {
   "cell_type": "code",
   "execution_count": 39,
   "metadata": {},
   "outputs": [
    {
     "data": {
      "text/plain": [
       "{'_colsample_bytree_0.400000_criterionabsolute_error_learning_rate_0.010000_max_depth_200_min_child_samples_30_n_estimators_40000_n_jobs_256_num_leaves_100_reg_lambda_0': 15.257990817374827}"
      ]
     },
     "execution_count": 39,
     "metadata": {},
     "output_type": "execute_result"
    }
   ],
   "source": [
    "all_model_results"
   ]
  }
 ],
 "metadata": {
  "kernelspec": {
   "display_name": "lightgbm",
   "language": "python",
   "name": "python3"
  },
  "language_info": {
   "codemirror_mode": {
    "name": "ipython",
    "version": 3
   },
   "file_extension": ".py",
   "mimetype": "text/x-python",
   "name": "python",
   "nbconvert_exporter": "python",
   "pygments_lexer": "ipython3",
   "version": "3.9.16"
  }
 },
 "nbformat": 4,
 "nbformat_minor": 4
}
