{
 "cells": [
  {
   "cell_type": "code",
   "execution_count": 109,
   "metadata": {},
   "outputs": [],
   "source": [
    "import os\n",
    "import deepchem as dc\n",
    "from deepchem.utils.data_utils import load_from_disk, save_to_disk\n",
    "from lightgbm import LGBMRegressor\n",
    "from sklearn.ensemble import RandomForestRegressor\n",
    "from sklearn.experimental import enable_halving_search_cv\n",
    "from sklearn.model_selection import GridSearchCV\n",
    "import multiprocessing\n",
    "import time\n",
    "import matplotlib.pyplot as plt\n",
    "\n",
    "from rdkit import Chem\n",
    "import deepchem as dc\n",
    "import numpy as np\n",
    "from sklearn.linear_model import LinearRegression\n",
    "from deepchem.utils.data_utils import load_from_disk, save_to_disk\n",
    "np.random.seed(0)"
   ]
  },
  {
   "cell_type": "code",
   "execution_count": 110,
   "metadata": {},
   "outputs": [],
   "source": [
    "TRAIN = \"../data/smiles_all_property.csv\"\n",
    "TARGET_COL = \"intensity\"\n",
    "SMILES_COL = \"smiles\"\n",
    "PROPERTY = TARGET_COL\n",
    "\n",
    "\n",
    "if TARGET_COL == \"Decomposition Energy\":\n",
    "    PROPERTY = \"Decomposition_Energy\"\n",
    "elif TARGET_COL == \"HOMO/LUMO gap\":\n",
    "    PROPERTY = \"HOMOLUMO_gap\"\n",
    "\n",
    "MODEL_DIR = \"../model/\" + PROPERTY\n",
    "LOG_DIR = \"../log/\" + PROPERTY\n",
    "\n",
    "DATA_DIR = \"../data/\" + PROPERTY\n",
    "\n",
    "DATA_EXIST = os.path.exists(DATA_DIR + \"/tasks.json\")"
   ]
  },
  {
   "cell_type": "code",
   "execution_count": 111,
   "metadata": {},
   "outputs": [
    {
     "name": "stderr",
     "output_type": "stream",
     "text": [
      "Exception ignored in: <function Model.__del__ at 0x7f987211b9d0>\n",
      "Traceback (most recent call last):\n",
      "  File \"/home/ishii/mambaforge/envs/lightgbm/lib/python3.9/site-packages/deepchem/models/models.py\", line 60, in __del__\n",
      "    shutil.rmtree(self.model_dir)\n",
      "  File \"/home/ishii/mambaforge/envs/lightgbm/lib/python3.9/shutil.py\", line 724, in rmtree\n",
      "    onerror(os.lstat, path, sys.exc_info())\n",
      "  File \"/home/ishii/mambaforge/envs/lightgbm/lib/python3.9/shutil.py\", line 722, in rmtree\n",
      "    orig_st = os.lstat(path)\n",
      "FileNotFoundError: [Errno 2] No such file or directory: '/tmp/tmpylpc4kvt'\n"
     ]
    }
   ],
   "source": [
    "# モデルのロード\n",
    "loaded_model = load_from_disk(MODEL_DIR + \"/model.joblib\")"
   ]
  },
  {
   "cell_type": "code",
   "execution_count": 112,
   "metadata": {},
   "outputs": [],
   "source": [
    "featurizer = dc.feat.RDKitDescriptors()"
   ]
  },
  {
   "cell_type": "code",
   "execution_count": 113,
   "metadata": {},
   "outputs": [],
   "source": [
    "# 学習データの読み込み\n",
    "loader = dc.data.CSVLoader(tasks=[TARGET_COL],\n",
    "                            feature_field=SMILES_COL,\n",
    "                            featurizer=featurizer)"
   ]
  },
  {
   "cell_type": "code",
   "execution_count": 114,
   "metadata": {},
   "outputs": [],
   "source": [
    "if DATA_EXIST == True:\n",
    "    dataset = dc.data.DiskDataset(DATA_DIR)\n",
    "else:\n",
    "    dataset = loader.create_dataset(TRAIN, data_dir=DATA_DIR)"
   ]
  },
  {
   "cell_type": "code",
   "execution_count": 115,
   "metadata": {},
   "outputs": [],
   "source": [
    "splitter = dc.splits.IndexSplitter()\n",
    "\n",
    "train_dataset, valid_dataset, test_dataset = splitter.train_valid_test_split(dataset, frac_train=0.6, frac_valid=0.2, frac_test=0.2)\n",
    "\n",
    "transformers = [dc.trans.NormalizationTransformer(transform_y=True,dataset=train_dataset)]"
   ]
  },
  {
   "cell_type": "code",
   "execution_count": 116,
   "metadata": {},
   "outputs": [
    {
     "data": {
      "text/plain": [
       "array([[-1.66554424],\n",
       "       [-1.46217965],\n",
       "       [-3.69875291],\n",
       "       ...,\n",
       "       [-0.81815613],\n",
       "       [-1.8664579 ],\n",
       "       [-1.87942278]])"
      ]
     },
     "execution_count": 116,
     "metadata": {},
     "output_type": "execute_result"
    }
   ],
   "source": [
    "train_dataset.y"
   ]
  },
  {
   "cell_type": "code",
   "execution_count": 117,
   "metadata": {},
   "outputs": [
    {
     "data": {
      "text/plain": [
       "-1.825198187884293"
      ]
     },
     "execution_count": 117,
     "metadata": {},
     "output_type": "execute_result"
    }
   ],
   "source": [
    "np.mean(train_dataset.y)"
   ]
  },
  {
   "cell_type": "code",
   "execution_count": 119,
   "metadata": {},
   "outputs": [
    {
     "data": {
      "text/plain": [
       "1.7923622490687516"
      ]
     },
     "execution_count": 119,
     "metadata": {},
     "output_type": "execute_result"
    }
   ],
   "source": [
    "np.var(train_dataset.y)"
   ]
  },
  {
   "cell_type": "code",
   "execution_count": 118,
   "metadata": {},
   "outputs": [
    {
     "data": {
      "text/plain": [
       "1.33879133888323"
      ]
     },
     "execution_count": 118,
     "metadata": {},
     "output_type": "execute_result"
    }
   ],
   "source": [
    "np.std(train_dataset.y)"
   ]
  },
  {
   "cell_type": "code",
   "execution_count": 96,
   "metadata": {},
   "outputs": [],
   "source": [
    "for transformer in transformers:\n",
    "    train_dataset = transformer.transform(train_dataset)\n",
    "    valid_dataset = transformer.transform(valid_dataset)\n",
    "    #test_dataset = transformer.transform(test_dataset)"
   ]
  },
  {
   "cell_type": "code",
   "execution_count": 97,
   "metadata": {},
   "outputs": [
    {
     "data": {
      "text/plain": [
       "'N#Cc1cccnc1N1CCN(C(=O)COCC(=O)O)CC1'"
      ]
     },
     "execution_count": 97,
     "metadata": {},
     "output_type": "execute_result"
    }
   ],
   "source": [
    "smiles = test_dataset.ids[0]\n",
    "smiles"
   ]
  },
  {
   "cell_type": "code",
   "execution_count": 98,
   "metadata": {},
   "outputs": [
    {
     "data": {
      "image/png": "[encoded data removed]",
      "text/plain": [
       "<rdkit.Chem.rdchem.Mol at 0x7f986f83ec10>"
      ]
     },
     "execution_count": 98,
     "metadata": {},
     "output_type": "execute_result"
    }
   ],
   "source": [
    "mol = Chem.MolFromSmiles(smiles)\n",
    "mol"
   ]
  },
  {
   "cell_type": "code",
   "execution_count": 99,
   "metadata": {},
   "outputs": [
    {
     "data": {
      "text/plain": [
       "'N#Cc1cccnc1N1CCN(C(=O)COCC(=O)O)CC1'"
      ]
     },
     "execution_count": 99,
     "metadata": {},
     "output_type": "execute_result"
    }
   ],
   "source": [
    "Chem.MolToSmiles(mol)"
   ]
  },
  {
   "cell_type": "code",
   "execution_count": 100,
   "metadata": {},
   "outputs": [
    {
     "data": {
      "text/plain": [
       "array([[ 1.18673844e+01,  1.18673844e+01,  2.33863405e-01,\n",
       "        -1.10018131e+00,  7.95668369e-01,  3.04306000e+02,\n",
       "         2.88178000e+02,  3.04117155e+02,  1.16000000e+02,\n",
       "         0.00000000e+00,  3.29164092e-01, -4.79533450e-01,\n",
       "         4.79533450e-01,  3.29164092e-01,  1.31818182e+00,\n",
       "         2.04545455e+00,  2.68181818e+00,  1.65038374e+01,\n",
       "         1.02036812e+01,  2.22874422e+00, -2.35160626e+00,\n",
       "         2.17481095e+00, -2.49825784e+00,  5.77962814e+00,\n",
       "        -1.45471670e-01,  2.54224662e+00,  1.86388699e+00,\n",
       "         5.90750788e+02,  1.59493830e+01,  1.19355043e+01,\n",
       "         1.19355043e+01,  1.06133922e+01,  6.78919108e+00,\n",
       "         6.78919108e+00,  4.74074542e+00,  4.74074542e+00,\n",
       "         3.29011795e+00,  3.29011795e+00,  2.22082467e+00,\n",
       "         2.22082467e+00, -2.66000000e+00,  2.54224662e+00,\n",
       "         1.57236452e+01,  7.37735185e+00,  3.92602098e+00,\n",
       "         1.27072769e+02,  1.96432098e+01,  2.51008480e+01,\n",
       "         0.00000000e+00,  5.90717973e+00,  0.00000000e+00,\n",
       "         5.96930529e+00,  4.79453718e+00,  9.77851571e+00,\n",
       "         5.26189155e+00,  0.00000000e+00,  0.00000000e+00,\n",
       "         1.21327341e+01,  3.23758692e+01,  5.56345149e+00,\n",
       "         1.94324647e+01,  1.76943478e+01,  5.26189155e+00,\n",
       "         9.88388825e+00,  0.00000000e+00,  0.00000000e+00,\n",
       "         4.42926993e+01,  2.38930292e+01,  0.00000000e+00,\n",
       "         6.06922131e+00,  4.89990973e+00,  5.81786278e+00,\n",
       "         0.00000000e+00,  0.00000000e+00,  6.62596902e+01,\n",
       "         1.43259373e+01,  1.13311129e+01,  5.56345149e+00,\n",
       "         1.83295777e+01,  0.00000000e+00,  0.00000000e+00,\n",
       "         0.00000000e+00,  1.06760000e+02,  1.25761873e+01,\n",
       "         9.58907437e+00,  0.00000000e+00,  1.25140617e+01,\n",
       "         3.75603399e+01,  0.00000000e+00,  0.00000000e+00,\n",
       "         2.32294874e+01,  4.89990973e+00,  1.10531998e+01,\n",
       "         1.51052819e+01,  4.79831872e+00,  0.00000000e+00,\n",
       "         2.99941348e+01,  1.75425448e+01,  5.06544496e-01,\n",
       "        -7.09761218e-01,  5.52289425e+00,  1.63238242e+00,\n",
       "         1.37960846e+00,  0.00000000e+00,  4.28571429e-01,\n",
       "         2.20000000e+01,  1.00000000e+00,  8.00000000e+00,\n",
       "         0.00000000e+00,  1.00000000e+00,  1.00000000e+00,\n",
       "         0.00000000e+00,  1.00000000e+00,  1.00000000e+00,\n",
       "         6.00000000e+00,  1.00000000e+00,  8.00000000e+00,\n",
       "         5.00000000e+00,  0.00000000e+00,  1.00000000e+00,\n",
       "         1.00000000e+00,  2.00000000e+00, -2.96920000e-01,\n",
       "         7.61998000e+01,  1.00000000e+00,  0.00000000e+00,\n",
       "         0.00000000e+00,  0.00000000e+00,  0.00000000e+00,\n",
       "         1.00000000e+00,  0.00000000e+00,  0.00000000e+00,\n",
       "         1.00000000e+00,  1.00000000e+00,  2.00000000e+00,\n",
       "         1.00000000e+00,  0.00000000e+00,  0.00000000e+00,\n",
       "         0.00000000e+00,  4.00000000e+00,  0.00000000e+00,\n",
       "         0.00000000e+00,  0.00000000e+00,  0.00000000e+00,\n",
       "         0.00000000e+00,  0.00000000e+00,  0.00000000e+00,\n",
       "         0.00000000e+00,  0.00000000e+00,  0.00000000e+00,\n",
       "         0.00000000e+00,  1.00000000e+00,  0.00000000e+00,\n",
       "         1.00000000e+00,  0.00000000e+00,  0.00000000e+00,\n",
       "         0.00000000e+00,  0.00000000e+00,  0.00000000e+00,\n",
       "         0.00000000e+00,  0.00000000e+00,  0.00000000e+00,\n",
       "         0.00000000e+00,  0.00000000e+00,  0.00000000e+00,\n",
       "         1.00000000e+00,  0.00000000e+00,  0.00000000e+00,\n",
       "         0.00000000e+00,  0.00000000e+00,  0.00000000e+00,\n",
       "         0.00000000e+00,  0.00000000e+00,  0.00000000e+00,\n",
       "         0.00000000e+00,  0.00000000e+00,  0.00000000e+00,\n",
       "         0.00000000e+00,  0.00000000e+00,  0.00000000e+00,\n",
       "         0.00000000e+00,  1.00000000e+00,  0.00000000e+00,\n",
       "         0.00000000e+00,  0.00000000e+00,  0.00000000e+00,\n",
       "         0.00000000e+00,  0.00000000e+00,  0.00000000e+00,\n",
       "         0.00000000e+00,  0.00000000e+00,  0.00000000e+00,\n",
       "         0.00000000e+00,  0.00000000e+00,  1.00000000e+00,\n",
       "         0.00000000e+00,  0.00000000e+00,  1.00000000e+00,\n",
       "         0.00000000e+00,  0.00000000e+00,  0.00000000e+00,\n",
       "         0.00000000e+00,  0.00000000e+00,  0.00000000e+00,\n",
       "         0.00000000e+00,  0.00000000e+00,  0.00000000e+00,\n",
       "         0.00000000e+00,  0.00000000e+00]])"
      ]
     },
     "execution_count": 100,
     "metadata": {},
     "output_type": "execute_result"
    }
   ],
   "source": [
    "features = featurizer.featurize(smiles)\n",
    "features"
   ]
  },
  {
   "cell_type": "code",
   "execution_count": 101,
   "metadata": {},
   "outputs": [
    {
     "data": {
      "text/plain": [
       "<DiskDataset X.shape: (1, 209), y.shape: (1, 1), w.shape: (1, 1), ids: [0], task_names: [0]>"
      ]
     },
     "execution_count": 101,
     "metadata": {},
     "output_type": "execute_result"
    }
   ],
   "source": [
    "data = dc.data.DiskDataset.from_numpy(features)\n",
    "data"
   ]
  },
  {
   "cell_type": "code",
   "execution_count": 102,
   "metadata": {},
   "outputs": [
    {
     "data": {
      "text/plain": [
       "<DiskDataset X.shape: (17526, 209), y.shape: (17526, 1), w.shape: (17526, 1), task_names: ['intensity']>"
      ]
     },
     "execution_count": 102,
     "metadata": {},
     "output_type": "execute_result"
    }
   ],
   "source": [
    "test_dataset"
   ]
  },
  {
   "cell_type": "code",
   "execution_count": 103,
   "metadata": {},
   "outputs": [
    {
     "data": {
      "text/plain": [
       "-1.6082208533769489"
      ]
     },
     "execution_count": 103,
     "metadata": {},
     "output_type": "execute_result"
    }
   ],
   "source": [
    "loaded_model.predict(data, transformers=transformers)[0]"
   ]
  },
  {
   "cell_type": "code",
   "execution_count": 106,
   "metadata": {},
   "outputs": [
    {
     "data": {
      "text/plain": [
       "array([[ 0.1192523 ],\n",
       "       [ 0.27115394],\n",
       "       [-1.39943744],\n",
       "       ...,\n",
       "       [ 0.7522024 ],\n",
       "       [-0.03081863],\n",
       "       [-0.04050265]])"
      ]
     },
     "execution_count": 106,
     "metadata": {},
     "output_type": "execute_result"
    }
   ],
   "source": [
    "train_dataset.y"
   ]
  },
  {
   "cell_type": "code",
   "execution_count": 107,
   "metadata": {},
   "outputs": [
    {
     "data": {
      "text/plain": [
       "-1.558907192824246e-15"
      ]
     },
     "execution_count": 107,
     "metadata": {},
     "output_type": "execute_result"
    }
   ],
   "source": [
    "np.mean(train_dataset.y)"
   ]
  },
  {
   "cell_type": "code",
   "execution_count": 108,
   "metadata": {},
   "outputs": [
    {
     "data": {
      "text/plain": [
       "1.0000000000000042"
      ]
     },
     "execution_count": 108,
     "metadata": {},
     "output_type": "execute_result"
    }
   ],
   "source": [
    "np.std(train_dataset.y)"
   ]
  }
 ],
 "metadata": {
  "kernelspec": {
   "display_name": "lightgbm",
   "language": "python",
   "name": "python3"
  },
  "language_info": {
   "codemirror_mode": {
    "name": "ipython",
    "version": 3
   },
   "file_extension": ".py",
   "mimetype": "text/x-python",
   "name": "python",
   "nbconvert_exporter": "python",
   "pygments_lexer": "ipython3",
   "version": "3.9.16"
  }
 },
 "nbformat": 4,
 "nbformat_minor": 2
}
